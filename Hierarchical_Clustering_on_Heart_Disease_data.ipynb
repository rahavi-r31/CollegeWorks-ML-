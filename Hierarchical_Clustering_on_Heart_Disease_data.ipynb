{
  "nbformat": 4,
  "nbformat_minor": 0,
  "metadata": {
    "colab": {
      "provenance": [],
      "authorship_tag": "ABX9TyMb0wdcwH6q+x0MOqkcotAZ",
      "include_colab_link": true
    },
    "kernelspec": {
      "name": "python3",
      "display_name": "Python 3"
    },
    "language_info": {
      "name": "python"
    }
  },
  "cells": [
    {
      "cell_type": "markdown",
      "metadata": {
        "id": "view-in-github",
        "colab_type": "text"
      },
      "source": [
        "<a href=\"https://colab.research.google.com/github/rahavi-r31/CollegeWorks-ML-/blob/main/Hierarchical_Clustering_on_Heart_Disease_data.ipynb\" target=\"_parent\"><img src=\"https://colab.research.google.com/assets/colab-badge.svg\" alt=\"Open In Colab\"/></a>"
      ]
    },
    {
      "cell_type": "code",
      "execution_count": null,
      "metadata": {
        "id": "4CSdVLxBaUe9"
      },
      "outputs": [],
      "source": []
    },
    {
      "cell_type": "code",
      "source": [
        "import pandas as pd\n",
        "import pgmpy.models\n",
        "import pgmpy.estimators\n",
        "\n",
        "data = pd.read_csv('heart_disease.csv')\n",
        "from sklearn.preprocessing import StandardScaler\n",
        "\n",
        "# Remove missing data\n",
        "data = data.dropna()\n",
        "\n",
        "# Split the data into features and target\n",
        "X = data.drop('diagnosis', axis=1)\n",
        "y = data['diagnosis']\n",
        "\n",
        "# Normalize the data\n",
        "scaler = StandardScaler()\n",
        "X = scaler.fit_transform(X)\n",
        "from scipy.cluster.hierarchy import linkage, fcluster\n",
        "\n",
        "# Perform hierarchical clustering\n",
        "Z = linkage(X, method='ward')\n",
        "\n",
        "# Determine the number of clusters\n",
        "max_d = 20\n",
        "clusters = fcluster(Z, max_d, criterion='distance')\n",
        "from pgmpy.models import BayesianNetwork\n",
        "from pgmpy.estimators import MaximumLikelihoodEstimator, BayesianEstimator\n",
        "from pgmpy.inference import VariableElimination\n",
        "\n",
        "# Define the Bayesian network\n",
        "model = BayesianNetwork([('age', 'trestbps'), ('age', 'chol'), ('sex', 'trestbps'),\n",
        "                       ('cp', 'chol'), ('fbs', 'restecg'), ('restecg', 'thalach'),\n",
        "                       ('thalach', 'exang'), ('exang', 'num'), ('oldpeak', 'slope'),\n",
        "                       ('num', 'diagnosis')])\n",
        "\n",
        "# Fit the model\n",
        "model.fit(data, estimator=MaximumLikelihoodEstimator)\n",
        "# Train the model\n",
        "model.fit(data, estimator=BayesianEstimator)\n",
        "infer = VariableElimination(model)\n",
        "q = infer.query(['diagnosis'], evidence={'age': 48, 'sex': 1, 'cp': 2, 'trestbps': 120,\n",
        "                                          'chol': 233, 'fbs': 0, 'restecg': 1, 'thalach': 163,\n",
        "                                          'exang': 1, 'oldpeak': 0.8, 'slope': 2})\n",
        "print(q)\n",
        "\n",
        "# Diagnose a heart patient\n",
        "patient_data = {'age': 50, 'sex': 1, 'cp': 2, 'trestbps': 130, 'chol':246, 'fbs': 0, 'restecg': 1, 'thalach': 168,\n",
        "                'exang': 0, 'oldpeak': 1.0, 'slope': 2}\n"
      ],
      "metadata": {
        "colab": {
          "base_uri": "https://localhost:8080/"
        },
        "id": "678ikVjwc8KS",
        "outputId": "be1b3528-1a46-40d9-b2bb-798852ba013f"
      },
      "execution_count": null,
      "outputs": [
        {
          "output_type": "stream",
          "name": "stdout",
          "text": [
            "+--------------+------------------+\n",
            "| diagnosis    |   phi(diagnosis) |\n",
            "+==============+==================+\n",
            "| diagnosis(0) |           0.3393 |\n",
            "+--------------+------------------+\n",
            "| diagnosis(1) |           0.6607 |\n",
            "+--------------+------------------+\n"
          ]
        }
      ]
    }
  ]
}