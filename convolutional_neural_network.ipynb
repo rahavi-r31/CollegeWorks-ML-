{
  "nbformat": 4,
  "nbformat_minor": 0,
  "metadata": {
    "colab": {
      "provenance": [],
      "authorship_tag": "ABX9TyOVXaxzptwOyTkts4kB8dd1",
      "include_colab_link": true
    },
    "kernelspec": {
      "name": "python3",
      "display_name": "Python 3"
    },
    "language_info": {
      "name": "python"
    }
  },
  "cells": [
    {
      "cell_type": "markdown",
      "metadata": {
        "id": "view-in-github",
        "colab_type": "text"
      },
      "source": [
        "<a href=\"https://colab.research.google.com/github/rahavi-r31/CollegeWorks-ML-/blob/main/convolutional_neural_network.ipynb\" target=\"_parent\"><img src=\"https://colab.research.google.com/assets/colab-badge.svg\" alt=\"Open In Colab\"/></a>"
      ]
    },
    {
      "cell_type": "code",
      "source": [
        "import tensorflow as tf\n",
        "from tensorflow import keras\n",
        "from tensorflow.keras import layers\n",
        "(x_train, y_train), (x_test, y_test) = keras.datasets.mnist.load_data()\n",
        "x_train = x_train.reshape(x_train.shape[0], 28, 28, 1) / 255.0\n",
        "x_test = x_test.reshape(x_test.shape[0], 28, 28, 1) / 255.0\n",
        "y_train = keras.utils.to_categorical(y_train)\n",
        "y_test = keras.utils.to_categorical(y_test)\n",
        "model = keras.Sequential([\n",
        "    layers.Conv2D(32, (3,3), activation='relu', input_shape=(28, 28, 1)),\n",
        "    layers.MaxPooling2D((2,2)),\n",
        "    layers.Conv2D(64, (3,3), activation='relu'),\n",
        "    layers.MaxPooling2D((2,2)),\n",
        "    layers.Conv2D(64, (3,3), activation='relu'),\n",
        "    layers.Flatten(),\n",
        "    layers.Dense(64, activation='relu'),\n",
        "    layers.Dense(10, activation='softmax')\n",
        "])\n",
        "model.compile(optimizer='adam',\n",
        "              loss='categorical_crossentropy',\n",
        "              metrics=['accuracy'])\n",
        "model.fit(x_train, y_train, epochs=10,\n",
        "          validation_data=(x_test, y_test))\n",
        "test_loss, test_acc = model.evaluate(x_test, y_test)\n",
        "predictions = model.predict(x_test)\n",
        "print(predictions)"
      ],
      "metadata": {
        "colab": {
          "base_uri": "https://localhost:8080/"
        },
        "id": "JXnzoc_KeXnt",
        "outputId": "e6deb61e-8d16-4289-bc77-c62671cf2e7e"
      },
      "execution_count": null,
      "outputs": [
        {
          "output_type": "stream",
          "name": "stdout",
          "text": [
            "Epoch 1/10\n",
            "1875/1875 [==============================] - 62s 32ms/step - loss: 0.1519 - accuracy: 0.9528 - val_loss: 0.0532 - val_accuracy: 0.9835\n",
            "Epoch 2/10\n",
            "1875/1875 [==============================] - 63s 33ms/step - loss: 0.0456 - accuracy: 0.9851 - val_loss: 0.0371 - val_accuracy: 0.9883\n",
            "Epoch 3/10\n",
            "1875/1875 [==============================] - 58s 31ms/step - loss: 0.0331 - accuracy: 0.9896 - val_loss: 0.0369 - val_accuracy: 0.9883\n",
            "Epoch 4/10\n",
            "1875/1875 [==============================] - 59s 32ms/step - loss: 0.0260 - accuracy: 0.9917 - val_loss: 0.0363 - val_accuracy: 0.9886\n",
            "Epoch 5/10\n",
            "1875/1875 [==============================] - 58s 31ms/step - loss: 0.0214 - accuracy: 0.9931 - val_loss: 0.0259 - val_accuracy: 0.9920\n",
            "Epoch 6/10\n",
            "1875/1875 [==============================] - 59s 31ms/step - loss: 0.0168 - accuracy: 0.9947 - val_loss: 0.0259 - val_accuracy: 0.9924\n",
            "Epoch 7/10\n",
            "1875/1875 [==============================] - 58s 31ms/step - loss: 0.0141 - accuracy: 0.9957 - val_loss: 0.0374 - val_accuracy: 0.9896\n",
            "Epoch 8/10\n",
            "1875/1875 [==============================] - 59s 31ms/step - loss: 0.0113 - accuracy: 0.9960 - val_loss: 0.0321 - val_accuracy: 0.9913\n",
            "Epoch 9/10\n",
            "1875/1875 [==============================] - 58s 31ms/step - loss: 0.0103 - accuracy: 0.9966 - val_loss: 0.0326 - val_accuracy: 0.9905\n",
            "Epoch 10/10\n",
            "1875/1875 [==============================] - 58s 31ms/step - loss: 0.0098 - accuracy: 0.9967 - val_loss: 0.0366 - val_accuracy: 0.9914\n",
            "313/313 [==============================] - 2s 8ms/step - loss: 0.0366 - accuracy: 0.9914\n",
            "313/313 [==============================] - 2s 8ms/step\n",
            "[[6.30160312e-13 9.80982962e-10 5.50399415e-09 ... 9.99999940e-01\n",
            "  1.13738827e-11 2.71941913e-10]\n",
            " [1.26328018e-07 3.52777261e-06 9.99996245e-01 ... 1.99926742e-09\n",
            "  8.86256953e-12 3.42822874e-16]\n",
            " [2.01344278e-07 9.99997675e-01 7.65133734e-09 ... 2.33184974e-08\n",
            "  6.18702174e-08 4.68864149e-11]\n",
            " ...\n",
            " [1.18827395e-20 1.76833798e-14 2.18450877e-15 ... 1.02288383e-13\n",
            "  1.29551378e-11 5.91609146e-14]\n",
            " [2.01383766e-12 1.57890454e-12 3.64040022e-14 ... 8.26209968e-19\n",
            "  2.03919581e-06 1.27760942e-12]\n",
            " [3.32602649e-15 1.79894045e-12 8.12641512e-14 ... 4.33847918e-18\n",
            "  3.86480263e-13 5.23650296e-13]]\n"
          ]
        }
      ]
    }
  ]
}