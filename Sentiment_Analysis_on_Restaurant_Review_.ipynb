{
  "nbformat": 4,
  "nbformat_minor": 0,
  "metadata": {
    "colab": {
      "provenance": [],
      "authorship_tag": "ABX9TyP6k2/56IISCs8N90TPml4j",
      "include_colab_link": true
    },
    "kernelspec": {
      "name": "python3",
      "display_name": "Python 3"
    },
    "language_info": {
      "name": "python"
    }
  },
  "cells": [
    {
      "cell_type": "markdown",
      "metadata": {
        "id": "view-in-github",
        "colab_type": "text"
      },
      "source": [
        "<a href=\"https://colab.research.google.com/github/rahavi-r31/CollegeWorks-ML-/blob/main/Sentiment_Analysis_on_Restaurant_Review_.ipynb\" target=\"_parent\"><img src=\"https://colab.research.google.com/assets/colab-badge.svg\" alt=\"Open In Colab\"/></a>"
      ]
    },
    {
      "cell_type": "code",
      "execution_count": null,
      "metadata": {
        "colab": {
          "base_uri": "https://localhost:8080/"
        },
        "id": "1U6pp_EueL0h",
        "outputId": "ed72106d-b274-40de-a728-15c0c120e664"
      },
      "outputs": [
        {
          "output_type": "stream",
          "name": "stdout",
          "text": [
            "Looking in indexes: https://pypi.org/simple, https://us-python.pkg.dev/colab-wheels/public/simple/\n",
            "Requirement already satisfied: nltk in /usr/local/lib/python3.10/dist-packages (3.8.1)\n",
            "Requirement already satisfied: click in /usr/local/lib/python3.10/dist-packages (from nltk) (8.1.3)\n",
            "Requirement already satisfied: joblib in /usr/local/lib/python3.10/dist-packages (from nltk) (1.2.0)\n",
            "Requirement already satisfied: regex>=2021.8.3 in /usr/local/lib/python3.10/dist-packages (from nltk) (2022.10.31)\n",
            "Requirement already satisfied: tqdm in /usr/local/lib/python3.10/dist-packages (from nltk) (4.65.0)\n"
          ]
        }
      ],
      "source": [
        "pip install nltk"
      ]
    },
    {
      "cell_type": "code",
      "source": [
        "pip install sklearn"
      ],
      "metadata": {
        "colab": {
          "base_uri": "https://localhost:8080/"
        },
        "id": "W5PqiTsXgx1b",
        "outputId": "6af6de68-de9b-467c-f25a-2325fea3d1c7"
      },
      "execution_count": null,
      "outputs": [
        {
          "output_type": "stream",
          "name": "stdout",
          "text": [
            "Looking in indexes: https://pypi.org/simple, https://us-python.pkg.dev/colab-wheels/public/simple/\n",
            "Collecting sklearn\n",
            "  Downloading sklearn-0.0.post5.tar.gz (3.7 kB)\n",
            "  Preparing metadata (setup.py) ... \u001b[?25l\u001b[?25hdone\n",
            "Building wheels for collected packages: sklearn\n",
            "  Building wheel for sklearn (setup.py) ... \u001b[?25l\u001b[?25hdone\n",
            "  Created wheel for sklearn: filename=sklearn-0.0.post5-py3-none-any.whl size=2950 sha256=9576387126b3a470daa23fce3a57a9a52489ecb689314e9f09028e0b49fd86ad\n",
            "  Stored in directory: /root/.cache/pip/wheels/38/1f/8d/4f812c590e074c1e928f5cec67bf5053b71f38e2648739403a\n",
            "Successfully built sklearn\n",
            "Installing collected packages: sklearn\n",
            "Successfully installed sklearn-0.0.post5\n"
          ]
        }
      ]
    },
    {
      "cell_type": "code",
      "source": [
        "import csv\n",
        "import nltk\n",
        "import random\n",
        "from nltk.corpus import stopwords\n",
        "from sklearn.feature_extraction.text import TfidfVectorizer\n",
        "from sklearn.model_selection import train_test_split\n",
        "from sklearn.svm import SVC\n",
        "from sklearn.metrics import accuracy_score\n",
        "from sklearn.svm import LinearSVC\n",
        "from sklearn.metrics import classification_report\n",
        "\n",
        "\n",
        "nltk.download('punkt')\n",
        "nltk.download('stopwords')\n",
        "\n",
        "# Load the TSV dataset\n",
        "dataset = []\n",
        "with open('Restaurant_Reviews.tsv', 'r', encoding='utf-8') as file:\n",
        "    reader = csv.reader(file, delimiter='\\t')\n",
        "    dataset = list(reader)\n",
        "\n",
        "# Preprocessing\n",
        "stopwords_set = set(stopwords.words('english'))\n",
        "\n",
        "corpus = []\n",
        "labels = []\n",
        "for row in dataset:\n",
        "    review_text = row[0]  # Modify the index if necessary based on the dataset structure\n",
        "    sentiment = row[1]  # Modify the index if necessary based on the dataset structure\n",
        "\n",
        "    # Tokenization and stop word removal\n",
        "    tokens = nltk.word_tokenize(review_text.lower())\n",
        "    filtered_tokens = [token for token in tokens if token.isalpha() and token not in stopwords_set]\n",
        "\n",
        "    # Join tokens back to form the preprocessed review\n",
        "    preprocessed_review = ' '.join(filtered_tokens)\n",
        "\n",
        "    corpus.append(preprocessed_review)\n",
        "    labels.append(sentiment)\n",
        "\n",
        "# Feature extraction using TF-IDF\n",
        "vectorizer = TfidfVectorizer()\n",
        "X = vectorizer.fit_transform(corpus)\n",
        "\n",
        "# Split the dataset into training and testing sets\n",
        "X_train, X_test, y_train, y_test = train_test_split(X, labels, test_size=0.2, random_state=42)\n",
        "\n",
        "# Train the sentiment analysis model (SVM classifier)\n",
        "classifier = SVC(kernel='linear')\n",
        "classifier.fit(X_train, y_train)\n",
        "\n",
        "# Predict sentiment on the testing set\n",
        "y_pred = classifier.predict(X_test)\n",
        "\n",
        "# Evaluate the model\n",
        "accuracy = accuracy_score(y_test, y_pred)\n",
        "print(\"Accuracy:\", accuracy)\n",
        "\n",
        "# Load the trained model and vectorizer\n",
        "model = classifier\n",
        "vectorizer = vectorizer\n",
        "\n",
        "\n",
        "def preprocess_review(review_text):\n",
        "    # Tokenization and stop word removal\n",
        "    tokens = nltk.word_tokenize(review_text.lower())\n",
        "    filtered_tokens = [token for token in tokens if token.isalpha() and token not in stopwords_set]\n",
        "\n",
        "    # Join tokens back to form the preprocessed review\n",
        "    preprocessed_review = ' '.join(filtered_tokens)\n",
        "    return preprocessed_review\n",
        "\n",
        "def extract_features(review_text):\n",
        "    preprocessed_review = preprocess_review(review_text)\n",
        "    features = vectorizer.transform([preprocessed_review])\n",
        "    return features\n",
        "\n",
        "# Predict sentiment for new reviews\n",
        "new_reviews = [\n",
        "    \"The food was amazing, highly recommended!\",\n",
        "    \"Terrible experience, the service was awful.\",\n",
        "    \"I would highly recommend this restaurant to everyone.\"\n",
        "]\n",
        "\n",
        "for review in new_reviews:\n",
        "    features = extract_features(review)\n",
        "    sentiment = model.predict(features)[0]\n",
        "    print(\"Review: \", review)\n",
        "    print(\"Predicted Sentiment: \", sentiment)\n",
        "    print()\n",
        "\n"
      ],
      "metadata": {
        "colab": {
          "base_uri": "https://localhost:8080/"
        },
        "id": "5IhyE8bAgKOq",
        "outputId": "6a641afb-fdd2-4c01-87e8-61e90b41f7dc"
      },
      "execution_count": null,
      "outputs": [
        {
          "output_type": "stream",
          "name": "stderr",
          "text": [
            "[nltk_data] Downloading package punkt to /root/nltk_data...\n",
            "[nltk_data]   Package punkt is already up-to-date!\n",
            "[nltk_data] Downloading package stopwords to /root/nltk_data...\n",
            "[nltk_data]   Package stopwords is already up-to-date!\n"
          ]
        },
        {
          "output_type": "stream",
          "name": "stdout",
          "text": [
            "Accuracy: 0.8009950248756219\n",
            "Review:  The food was amazing, highly recommended!\n",
            "Predicted Sentiment:  1\n",
            "\n",
            "Review:  Terrible experience, the service was awful.\n",
            "Predicted Sentiment:  0\n",
            "\n",
            "Review:  I would highly recommend this restaurant to everyone.\n",
            "Predicted Sentiment:  1\n",
            "\n"
          ]
        }
      ]
    }
  ]
}