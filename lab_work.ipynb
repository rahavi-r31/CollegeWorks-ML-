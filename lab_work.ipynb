{
  "nbformat": 4,
  "nbformat_minor": 0,
  "metadata": {
    "colab": {
      "provenance": [],
      "authorship_tag": "ABX9TyPuzFHSW7jIqEw32J0d/Be1",
      "include_colab_link": true
    },
    "kernelspec": {
      "name": "python3",
      "display_name": "Python 3"
    },
    "language_info": {
      "name": "python"
    }
  },
  "cells": [
    {
      "cell_type": "markdown",
      "metadata": {
        "id": "view-in-github",
        "colab_type": "text"
      },
      "source": [
        "<a href=\"https://colab.research.google.com/github/rahavi-r31/CollegeWorks-ML-/blob/main/lab_work.ipynb\" target=\"_parent\"><img src=\"https://colab.research.google.com/assets/colab-badge.svg\" alt=\"Open In Colab\"/></a>"
      ]
    },
    {
      "cell_type": "code",
      "execution_count": null,
      "metadata": {
        "colab": {
          "base_uri": "https://localhost:8080/"
        },
        "id": "UoFL9aWNS69z",
        "outputId": "6e729652-4927-42ca-e318-56423f53a7f6"
      },
      "outputs": [
        {
          "output_type": "stream",
          "name": "stdout",
          "text": [
            "[2 9 7 5 2 2]\n",
            "[[8 3 8 4]\n",
            " [9 4 7 5]\n",
            " [6 2 5 0]]\n",
            "[[[7 1 4 6 8]\n",
            "  [0 1 6 6 5]\n",
            "  [5 4 2 7 7]\n",
            "  [6 1 0 9 4]]\n",
            "\n",
            " [[7 6 7 2 1]\n",
            "  [0 9 3 2 1]\n",
            "  [3 8 0 1 4]\n",
            "  [7 9 7 3 1]]\n",
            "\n",
            " [[1 6 2 1 0]\n",
            "  [5 6 1 0 0]\n",
            "  [2 9 3 7 6]\n",
            "  [6 5 5 3 1]]]\n",
            "2\n",
            "7\n",
            "8\n",
            "0\n",
            "7\n",
            "[2 9 7 7 2 2]\n",
            "[9 7]\n",
            "[[8 3 8 4]\n",
            " [9 4 7 5]]\n",
            "[[[7 1]\n",
            "  [0 1]]\n",
            "\n",
            " [[7 6]\n",
            "  [0 9]]]\n"
          ]
        }
      ],
      "source": [
        "import numpy as np\n",
        "#to create an array with random integers\n",
        "# 1d\n",
        "x1 = np.random.randint(10, size=6)\n",
        "# 2d\n",
        "x2 = np.random.randint(10, size=(3, 4)) #axis0,axis1\n",
        "# 3d\n",
        "x3 = np.random.randint(10, size=(3, 4, 5))\n",
        "\n",
        "print(x1)\n",
        "print(x2)\n",
        "print(x3)\n",
        "\n",
        "#acessing individual elements\n",
        "\n",
        "print(x1[0])\n",
        "print(x1[2])\n",
        "print(x2[0,0])\n",
        "print(x2[2,3])\n",
        "print(x3[0,0,0])\n",
        "\n",
        "#modifying values using index\n",
        "\n",
        "x1[3]=7\n",
        "print(x1)\n",
        "\n",
        "#array slicing\n",
        "\n",
        "print(x1[1:3])\n",
        "print(x2[:2,:])\n",
        "print(x3[:2,:2,:2])"
      ]
    },
    {
      "cell_type": "code",
      "source": [
        "import numpy as np\n",
        "import matplotlib.pyplot as plt #for graph\n",
        "from scipy.stats import norm #for getting a normal curve\n",
        "import statistics #to calculate mean and sd\n",
        "xaxis=np.arange(-20,20,0.01)\n",
        "mean=statistics.mean(xaxis)\n",
        "sd=statistics.stdev(xaxis)\n",
        "x=np.random.normal(5.0,1.0,1000) #Draw random samples from a normal (Gaussian) distribution \n",
        "#random.normal(loc:mean,scale:sd,shape)\n",
        "y=np.random.normal(10.0,2.0,1000)\n",
        "plt.scatter(x,y)\n",
        "#scatter(x,y,shape,color,marker,norm,linewidth,edgecolour,)\n",
        "plt.show()\n",
        "plt.scatter(xaxis,norm.pdf(xaxis,mean,sd))\n",
        "plt.show()\n",
        "x1=np.random.uniform(0,5,1000)\n",
        "plt.hist(x,100)\n",
        "\n"
      ],
      "metadata": {
        "colab": {
          "base_uri": "https://localhost:8080/",
          "height": 1000
        },
        "id": "muZ52SgaW3bl",
        "outputId": "ab263e86-8d91-404f-ecdf-c297feca4b69"
      },
      "execution_count": null,
      "outputs": [
        {
          "output_type": "display_data",
          "data": {
            "text/plain": [
              "<Figure size 432x288 with 1 Axes>"
            ],
            "image/png": "[encoded data removed]"
          },
          "metadata": {
            "needs_background": "light"
          }
        },
        {
          "output_type": "display_data",
          "data": {
            "text/plain": [
              "<Figure size 432x288 with 1 Axes>"
            ],
            "image/png": "[encoded data removed]"
          },
          "metadata": {
            "needs_background": "light"
          }
        },
        {
          "output_type": "execute_result",
          "data": {
            "text/plain": [
              "(array([ 2.,  0.,  0.,  0.,  0.,  0.,  1.,  0.,  2.,  1.,  4.,  0.,  5.,\n",
              "         1.,  2.,  2.,  0.,  3.,  4.,  2.,  1.,  3.,  2.,  9.,  9.,  4.,\n",
              "        10.,  8., 12.,  7., 17., 15., 11., 16.,  7., 19., 11., 15.,  7.,\n",
              "        15., 17., 27., 29., 20., 27., 22., 19., 25., 22., 30., 29., 26.,\n",
              "        29., 20., 19., 25., 21., 24., 23., 15., 18., 32., 13., 18., 25.,\n",
              "        20., 21., 14., 18., 11., 13.,  8.,  9., 14.,  8.,  3.,  9.,  3.,\n",
              "         5.,  4.,  9.,  3.,  3.,  1.,  5.,  4.,  2.,  2.,  1.,  2.,  1.,\n",
              "         0.,  0.,  1.,  0.,  1.,  0.,  0.,  2.,  1.]),\n",
              " array([1.7065028 , 1.7710323 , 1.83556179, 1.90009129, 1.96462078,\n",
              "        2.02915028, 2.09367978, 2.15820927, 2.22273877, 2.28726827,\n",
              "        2.35179776, 2.41632726, 2.48085676, 2.54538625, 2.60991575,\n",
              "        2.67444525, 2.73897474, 2.80350424, 2.86803373, 2.93256323,\n",
              "        2.99709273, 3.06162222, 3.12615172, 3.19068122, 3.25521071,\n",
              "        3.31974021, 3.38426971, 3.4487992 , 3.5133287 , 3.57785819,\n",
              "        3.64238769, 3.70691719, 3.77144668, 3.83597618, 3.90050568,\n",
              "        3.96503517, 4.02956467, 4.09409417, 4.15862366, 4.22315316,\n",
              "        4.28768265, 4.35221215, 4.41674165, 4.48127114, 4.54580064,\n",
              "        4.61033014, 4.67485963, 4.73938913, 4.80391863, 4.86844812,\n",
              "        4.93297762, 4.99750712, 5.06203661, 5.12656611, 5.1910956 ,\n",
              "        5.2556251 , 5.3201546 , 5.38468409, 5.44921359, 5.51374309,\n",
              "        5.57827258, 5.64280208, 5.70733158, 5.77186107, 5.83639057,\n",
              "        5.90092006, 5.96544956, 6.02997906, 6.09450855, 6.15903805,\n",
              "        6.22356755, 6.28809704, 6.35262654, 6.41715604, 6.48168553,\n",
              "        6.54621503, 6.61074452, 6.67527402, 6.73980352, 6.80433301,\n",
              "        6.86886251, 6.93339201, 6.9979215 , 7.062451  , 7.1269805 ,\n",
              "        7.19150999, 7.25603949, 7.32056899, 7.38509848, 7.44962798,\n",
              "        7.51415747, 7.57868697, 7.64321647, 7.70774596, 7.77227546,\n",
              "        7.83680496, 7.90133445, 7.96586395, 8.03039345, 8.09492294,\n",
              "        8.15945244]),\n",
              " <a list of 100 Patch objects>)"
            ]
          },
          "metadata": {},
          "execution_count": 17
        },
        {
          "output_type": "display_data",
          "data": {
            "text/plain": [
              "<Figure size 432x288 with 1 Axes>"
            ],
            "image/png": "[encoded data removed]"
          },
          "metadata": {
            "needs_background": "light"
          }
        }
      ]
    },
    {
      "cell_type": "code",
      "source": [
        "from sklearn.datasets import load_iris\n",
        "from sklearn.neighbors import KNeighborsClassifier\n",
        "from sklearn.model_selection import train_test_split\n",
        "from sklearn import datasets\n",
        "import numpy \n",
        "iris=datasets.load_iris()\n",
        "x=iris.data\n",
        "y=iris.target\n",
        "z=iris.target_names\n",
        "#a dataset of plants with their physical attributes is imported\n",
        "# x will have the data, y will have the labels, z will have its class\n",
        "x_train,x_test,y_train,y_test=train_test_split(x,y,test_size=0.3)\n",
        "# the above step splits the data set into training and testing dataset test_size indicates the prportion split\n",
        "classifier=KNeighborsClassifier(n_neighbors=5)\n",
        "#the predefined function containing the knclassifier is used on the dataset with k=5\n",
        "classifier.fit(x_train,y_train)\n",
        "#training\n",
        "y_pred=classifier.predict(x_test)\n",
        "#prediction\n",
        "for i in range(len(x_test)):\n",
        "  x=x_test[i]\n",
        "  x_new=np.array([x])\n",
        "  prediction=classifier.predict(x_new)\n",
        "  print(\"TARGET=\",y_test[i],z[y_test[i]],\"PREDICTED=\",prediction,z[prediction])\n",
        "  #this statement\n",
        "print(classifier.score(x_test,y_test))"
      ],
      "metadata": {
        "colab": {
          "base_uri": "https://localhost:8080/"
        },
        "id": "q-fzzjn1UAdo",
        "outputId": "b8d061a1-fcbb-4c44-e0e4-374961ea0ed1"
      },
      "execution_count": null,
      "outputs": [
        {
          "output_type": "stream",
          "name": "stdout",
          "text": [
            "TARGET= 2 virginica PREDICTED= [2] ['virginica']\n",
            "TARGET= 1 versicolor PREDICTED= [1] ['versicolor']\n",
            "TARGET= 2 virginica PREDICTED= [2] ['virginica']\n",
            "TARGET= 1 versicolor PREDICTED= [1] ['versicolor']\n",
            "TARGET= 2 virginica PREDICTED= [2] ['virginica']\n",
            "TARGET= 0 setosa PREDICTED= [0] ['setosa']\n",
            "TARGET= 0 setosa PREDICTED= [0] ['setosa']\n",
            "TARGET= 1 versicolor PREDICTED= [1] ['versicolor']\n",
            "TARGET= 1 versicolor PREDICTED= [1] ['versicolor']\n",
            "TARGET= 1 versicolor PREDICTED= [1] ['versicolor']\n",
            "TARGET= 0 setosa PREDICTED= [0] ['setosa']\n",
            "TARGET= 2 virginica PREDICTED= [2] ['virginica']\n",
            "TARGET= 0 setosa PREDICTED= [0] ['setosa']\n",
            "TARGET= 2 virginica PREDICTED= [2] ['virginica']\n",
            "TARGET= 1 versicolor PREDICTED= [1] ['versicolor']\n",
            "TARGET= 0 setosa PREDICTED= [0] ['setosa']\n",
            "TARGET= 2 virginica PREDICTED= [2] ['virginica']\n",
            "TARGET= 1 versicolor PREDICTED= [1] ['versicolor']\n",
            "TARGET= 2 virginica PREDICTED= [2] ['virginica']\n",
            "TARGET= 1 versicolor PREDICTED= [1] ['versicolor']\n",
            "TARGET= 2 virginica PREDICTED= [2] ['virginica']\n",
            "TARGET= 1 versicolor PREDICTED= [1] ['versicolor']\n",
            "TARGET= 1 versicolor PREDICTED= [2] ['virginica']\n",
            "TARGET= 0 setosa PREDICTED= [0] ['setosa']\n",
            "TARGET= 2 virginica PREDICTED= [2] ['virginica']\n",
            "TARGET= 1 versicolor PREDICTED= [1] ['versicolor']\n",
            "TARGET= 1 versicolor PREDICTED= [1] ['versicolor']\n",
            "TARGET= 0 setosa PREDICTED= [0] ['setosa']\n",
            "TARGET= 2 virginica PREDICTED= [2] ['virginica']\n",
            "TARGET= 1 versicolor PREDICTED= [1] ['versicolor']\n",
            "TARGET= 1 versicolor PREDICTED= [1] ['versicolor']\n",
            "TARGET= 0 setosa PREDICTED= [0] ['setosa']\n",
            "TARGET= 0 setosa PREDICTED= [0] ['setosa']\n",
            "TARGET= 2 virginica PREDICTED= [2] ['virginica']\n",
            "TARGET= 0 setosa PREDICTED= [0] ['setosa']\n",
            "TARGET= 2 virginica PREDICTED= [2] ['virginica']\n",
            "TARGET= 0 setosa PREDICTED= [0] ['setosa']\n",
            "TARGET= 0 setosa PREDICTED= [0] ['setosa']\n",
            "TARGET= 2 virginica PREDICTED= [2] ['virginica']\n",
            "TARGET= 0 setosa PREDICTED= [0] ['setosa']\n",
            "TARGET= 0 setosa PREDICTED= [0] ['setosa']\n",
            "TARGET= 1 versicolor PREDICTED= [1] ['versicolor']\n",
            "TARGET= 2 virginica PREDICTED= [2] ['virginica']\n",
            "TARGET= 2 virginica PREDICTED= [2] ['virginica']\n",
            "TARGET= 1 versicolor PREDICTED= [1] ['versicolor']\n",
            "0.9777777777777777\n"
          ]
        }
      ]
    },
    {
      "cell_type": "code",
      "source": [
        "import numpy as np\n",
        "import matplotlib.pyplot as plt\n",
        "\n",
        "np.random.seed(0)\n",
        "x = 2 - 3 * np.random.normal(0, 1, 20)\n",
        "y = x - 2 * (x ** 2) + 0.5 * (x ** 3) + np.random.normal(-3, 3, 20)\n",
        "plt.scatter(x,y, s=10)\n",
        "plt.show()"
      ],
      "metadata": {
        "colab": {
          "base_uri": "https://localhost:8080/",
          "height": 430
        },
        "id": "wrMK2O1AF7LS",
        "outputId": "cfe25037-fa30-4738-8293-fe7021e56db3"
      },
      "execution_count": null,
      "outputs": [
        {
          "output_type": "display_data",
          "data": {
            "text/plain": [
              "<Figure size 640x480 with 1 Axes>"
            ],
            "image/png": "[encoded data removed]"
          },
          "metadata": {}
        }
      ]
    },
    {
      "cell_type": "code",
      "source": [
        "import numpy as np\n",
        "import matplotlib.pyplot as plt\n",
        "\n",
        "from sklearn.linear_model import LinearRegression\n",
        "\n",
        "np.random.seed(0)\n",
        "x = 2 - 3 * np.random.normal(0, 1, 20)\n",
        "y = x - 2 * (x ** 2) + 0.5 * (x ** 3) + np.random.normal(-3, 3, 20)\n",
        "\n",
        "# transforming the data to include another axis\n",
        "x = x[:, np.newaxis]\n",
        "y = y[:, np.newaxis]\n",
        "\n",
        "model = LinearRegression()\n",
        "model.fit(x, y)\n",
        "y_pred = model.predict(x)\n",
        "\n",
        "plt.scatter(x, y, s=10)\n",
        "plt.plot(x, y_pred, color='r')\n",
        "plt.show()"
      ],
      "metadata": {
        "colab": {
          "base_uri": "https://localhost:8080/",
          "height": 430
        },
        "id": "P9HOvsR3HB5Z",
        "outputId": "8aed0d0c-2271-40af-8027-2b43dd32deec"
      },
      "execution_count": null,
      "outputs": [
        {
          "output_type": "display_data",
          "data": {
            "text/plain": [
              "<Figure size 640x480 with 1 Axes>"
            ],
            "image/png": "[encoded data removed]"
          },
          "metadata": {}
        }
      ]
    },
    {
      "cell_type": "code",
      "source": [
        "import operator\n",
        "\n",
        "import numpy as np\n",
        "import matplotlib.pyplot as plt\n",
        "\n",
        "from sklearn.linear_model import LinearRegression\n",
        "from sklearn.metrics import mean_squared_error, r2_score\n",
        "from sklearn.preprocessing import PolynomialFeatures\n",
        "\n",
        "np.random.seed(0)\n",
        "x = 2 - 3 * np.random.normal(0, 1, 20)\n",
        "y = x - 2 * (x ** 2) + 0.5 * (x ** 3) + np.random.normal(-3, 3, 20)\n",
        "\n",
        "# transforming the data to include another axis\n",
        "x = x[:, np.newaxis]\n",
        "y = y[:, np.newaxis]\n",
        "\n",
        "polynomial_features= PolynomialFeatures(degree=2)\n",
        "x_poly = polynomial_features.fit_transform(x)\n",
        "\n",
        "model = LinearRegression()\n",
        "model.fit(x_poly, y)\n",
        "y_poly_pred = model.predict(x_poly)\n",
        "\n",
        "rmse = np.sqrt(mean_squared_error(y,y_poly_pred))\n",
        "r2 = r2_score(y,y_poly_pred)\n",
        "print(rmse)\n",
        "print(r2)\n",
        "\n",
        "plt.scatter(x, y, s=10)\n",
        "# sort the values of x before line plot\n",
        "sort_axis = operator.itemgetter(0)\n",
        "sorted_zip = sorted(zip(x,y_poly_pred), key=sort_axis)\n",
        "x, y_poly_pred = zip(*sorted_zip)\n",
        "plt.plot(x, y_poly_pred, color='m')\n",
        "plt.show()"
      ],
      "metadata": {
        "colab": {
          "base_uri": "https://localhost:8080/",
          "height": 466
        },
        "id": "2gxhUcCEKagw",
        "outputId": "97c9b1c1-1d49-458a-c955-91a5a994be64"
      },
      "execution_count": null,
      "outputs": [
        {
          "output_type": "stream",
          "name": "stdout",
          "text": [
            "10.120437473614711\n",
            "0.8537647164420812\n"
          ]
        },
        {
          "output_type": "display_data",
          "data": {
            "text/plain": [
              "<Figure size 640x480 with 1 Axes>"
            ],
            "image/png": "[encoded data removed]"
          },
          "metadata": {}
        }
      ]
    },
    {
      "cell_type": "code",
      "source": [
        "from sklearn.preprocessing import PolynomialFeatures\n",
        "\n",
        "def create_polynomial_regression_model(degree):\n",
        "  \"Creates a polynomial regression model for the given degree\"\n",
        "  \n",
        "  poly_features = PolynomialFeatures(degree=degree)\n",
        "  \n",
        "  # transforms the existing features to higher degree features.\n",
        "  X_train_poly = poly_features.fit_transform(X_train)\n",
        "  \n",
        "  # fit the transformed features to Linear Regression\n",
        "  poly_model = LinearRegression()\n",
        "  poly_model.fit(X_train_poly, Y_train)\n",
        "  \n",
        "  # predicting on training data-set\n",
        "  y_train_predicted = poly_model.predict(X_train_poly)\n",
        "  \n",
        "  # predicting on test data-set\n",
        "  y_test_predict = poly_model.predict(poly_features.fit_transform(X_test))\n",
        "  \n",
        "  # evaluating the model on training dataset\n",
        "  rmse_train = np.sqrt(mean_squared_error(Y_train, y_train_predicted))\n",
        "  r2_train = r2_score(Y_train, y_train_predicted)\n",
        "  \n",
        "  # evaluating the model on test dataset\n",
        "  rmse_test = np.sqrt(mean_squared_error(Y_test, y_test_predict))\n",
        "  r2_test = r2_score(Y_test, y_test_predict)\n",
        "  \n",
        "  print(\"The model performance for the training set\")\n",
        "  print(\"-------------------------------------------\")\n",
        "  print(\"RMSE of training set is {}\".format(rmse_train))\n",
        "  print(\"R2 score of training set is {}\".format(r2_train))\n",
        "  \n",
        "  print(\"\\n\")\n",
        "  \n",
        "  print(\"The model performance for the test set\")\n",
        "  print(\"-------------------------------------------\")\n",
        "  print(\"RMSE of test set is {}\".format(rmse_test))\n",
        "  print(\"R2 score of test set is {}\".format(r2_test))"
      ],
      "metadata": {
        "id": "5J1RRP64QuIR"
      },
      "execution_count": null,
      "outputs": []
    },
    {
      "cell_type": "code",
      "source": [
        "pip install pgmpy\n"
      ],
      "metadata": {
        "colab": {
          "base_uri": "https://localhost:8080/"
        },
        "id": "XoPpMH7TkEKZ",
        "outputId": "f1da2ffa-87c8-4df4-9bc3-07fc75b60d4f"
      },
      "execution_count": null,
      "outputs": [
        {
          "output_type": "stream",
          "name": "stdout",
          "text": [
            "Looking in indexes: https://pypi.org/simple, https://us-python.pkg.dev/colab-wheels/public/simple/\n",
            "Collecting pgmpy\n",
            "  Downloading pgmpy-0.1.22-py3-none-any.whl (1.9 MB)\n",
            "\u001b[2K     \u001b[90m━━━━━━━━━━━━━━━━━━━━━━━━━━━━━━━━━━━━━━━━\u001b[0m \u001b[32m1.9/1.9 MB\u001b[0m \u001b[31m17.1 MB/s\u001b[0m eta \u001b[36m0:00:00\u001b[0m\n",
            "\u001b[?25hRequirement already satisfied: scipy in /usr/local/lib/python3.9/dist-packages (from pgmpy) (1.10.1)\n",
            "Requirement already satisfied: pyparsing in /usr/local/lib/python3.9/dist-packages (from pgmpy) (3.0.9)\n",
            "Requirement already satisfied: networkx in /usr/local/lib/python3.9/dist-packages (from pgmpy) (3.0)\n",
            "Requirement already satisfied: torch in /usr/local/lib/python3.9/dist-packages (from pgmpy) (2.0.0+cu118)\n",
            "Requirement already satisfied: scikit-learn in /usr/local/lib/python3.9/dist-packages (from pgmpy) (1.2.2)\n",
            "Requirement already satisfied: opt-einsum in /usr/local/lib/python3.9/dist-packages (from pgmpy) (3.3.0)\n",
            "Requirement already satisfied: statsmodels in /usr/local/lib/python3.9/dist-packages (from pgmpy) (0.13.5)\n",
            "Requirement already satisfied: pandas in /usr/local/lib/python3.9/dist-packages (from pgmpy) (1.4.4)\n",
            "Requirement already satisfied: numpy in /usr/local/lib/python3.9/dist-packages (from pgmpy) (1.22.4)\n",
            "Requirement already satisfied: joblib in /usr/local/lib/python3.9/dist-packages (from pgmpy) (1.1.1)\n",
            "Requirement already satisfied: tqdm in /usr/local/lib/python3.9/dist-packages (from pgmpy) (4.65.0)\n",
            "Requirement already satisfied: python-dateutil>=2.8.1 in /usr/local/lib/python3.9/dist-packages (from pandas->pgmpy) (2.8.2)\n",
            "Requirement already satisfied: pytz>=2020.1 in /usr/local/lib/python3.9/dist-packages (from pandas->pgmpy) (2022.7.1)\n",
            "Requirement already satisfied: threadpoolctl>=2.0.0 in /usr/local/lib/python3.9/dist-packages (from scikit-learn->pgmpy) (3.1.0)\n",
            "Requirement already satisfied: packaging>=21.3 in /usr/local/lib/python3.9/dist-packages (from statsmodels->pgmpy) (23.0)\n",
            "Requirement already satisfied: patsy>=0.5.2 in /usr/local/lib/python3.9/dist-packages (from statsmodels->pgmpy) (0.5.3)\n",
            "Requirement already satisfied: triton==2.0.0 in /usr/local/lib/python3.9/dist-packages (from torch->pgmpy) (2.0.0)\n",
            "Requirement already satisfied: jinja2 in /usr/local/lib/python3.9/dist-packages (from torch->pgmpy) (3.1.2)\n",
            "Requirement already satisfied: filelock in /usr/local/lib/python3.9/dist-packages (from torch->pgmpy) (3.10.7)\n",
            "Requirement already satisfied: typing-extensions in /usr/local/lib/python3.9/dist-packages (from torch->pgmpy) (4.5.0)\n",
            "Requirement already satisfied: sympy in /usr/local/lib/python3.9/dist-packages (from torch->pgmpy) (1.11.1)\n",
            "Requirement already satisfied: cmake in /usr/local/lib/python3.9/dist-packages (from triton==2.0.0->torch->pgmpy) (3.25.2)\n",
            "Requirement already satisfied: lit in /usr/local/lib/python3.9/dist-packages (from triton==2.0.0->torch->pgmpy) (16.0.0)\n",
            "Requirement already satisfied: six in /usr/local/lib/python3.9/dist-packages (from patsy>=0.5.2->statsmodels->pgmpy) (1.16.0)\n",
            "Requirement already satisfied: MarkupSafe>=2.0 in /usr/local/lib/python3.9/dist-packages (from jinja2->torch->pgmpy) (2.1.2)\n",
            "Requirement already satisfied: mpmath>=0.19 in /usr/local/lib/python3.9/dist-packages (from sympy->torch->pgmpy) (1.3.0)\n",
            "Installing collected packages: pgmpy\n",
            "Successfully installed pgmpy-0.1.22\n"
          ]
        }
      ]
    },
    {
      "cell_type": "code",
      "source": [
        "import pandas as pd\n",
        "import pgmpy.models\n",
        "import pgmpy.estimators\n",
        "\n",
        "data = pd.read_csv('heart_disease.csv')\n",
        "from sklearn.preprocessing import StandardScaler\n",
        "\n",
        "# Remove missing data\n",
        "data = data.dropna()\n",
        "\n",
        "# Split the data into features and target\n",
        "X = data.drop('diagnosis', axis=1)\n",
        "y = data['diagnosis']\n",
        "\n",
        "# Normalize the data\n",
        "scaler = StandardScaler()\n",
        "X = scaler.fit_transform(X)\n",
        "from scipy.cluster.hierarchy import linkage, fcluster\n",
        "\n",
        "# Perform hierarchical clustering\n",
        "Z = linkage(X, method='ward')\n",
        "\n",
        "# Determine the number of clusters\n",
        "max_d = 20\n",
        "clusters = fcluster(Z, max_d, criterion='distance')\n",
        "from pgmpy.models import BayesianNetwork\n",
        "from pgmpy.estimators import MaximumLikelihoodEstimator, BayesianEstimator\n",
        "from pgmpy.inference import VariableElimination\n",
        "\n",
        "# Define the Bayesian network\n",
        "model = BayesianNetwork([('age', 'trestbps'), ('age', 'chol'), ('sex', 'trestbps'), \n",
        "                       ('cp', 'chol'), ('fbs', 'restecg'), ('restecg', 'thalach'), \n",
        "                       ('thalach', 'exang'), ('exang', 'num'), ('oldpeak', 'slope'), \n",
        "                       ('num', 'diagnosis')])\n",
        "\n",
        "# Fit the model\n",
        "model.fit(data, estimator=MaximumLikelihoodEstimator)\n",
        "# Train the model\n",
        "model.fit(data, estimator=BayesianEstimator)\n",
        "infer = VariableElimination(model)\n",
        "q = infer.query(['diagnosis'], evidence={'age': 48, 'sex': 1, 'cp': 2, 'trestbps': 120,\n",
        "                                          'chol': 233, 'fbs': 0, 'restecg': 1, 'thalach': 163,\n",
        "                                          'exang': 1, 'oldpeak': 0.8, 'slope': 2})\n",
        "print(q)\n",
        "\n",
        "# Diagnose a heart patient\n",
        "patient_data = {'age': 50, 'sex': 1, 'cp': 2, 'trestbps': 130, 'chol':246, 'fbs': 0, 'restecg': 1, 'thalach': 168,\n",
        "                'exang': 0, 'oldpeak': 1.0, 'slope': 2}\n"
      ],
      "metadata": {
        "colab": {
          "base_uri": "https://localhost:8080/"
        },
        "id": "678ikVjwc8KS",
        "outputId": "be1b3528-1a46-40d9-b2bb-798852ba013f"
      },
      "execution_count": null,
      "outputs": [
        {
          "output_type": "stream",
          "name": "stdout",
          "text": [
            "+--------------+------------------+\n",
            "| diagnosis    |   phi(diagnosis) |\n",
            "+==============+==================+\n",
            "| diagnosis(0) |           0.3393 |\n",
            "+--------------+------------------+\n",
            "| diagnosis(1) |           0.6607 |\n",
            "+--------------+------------------+\n"
          ]
        }
      ]
    }
  ]
}